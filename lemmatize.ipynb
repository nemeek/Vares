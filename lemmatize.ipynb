{
 "cells": [
  {
   "cell_type": "markdown",
   "id": "48ca6252-2b8f-40b8-845f-6de8ef61134c",
   "metadata": {},
   "source": [
    "# Funktsiooni `lemmatize` kasutusnäide"
   ]
  },
  {
   "cell_type": "markdown",
   "id": "a4c5546f-2602-4986-8bd9-19105cd908a1",
   "metadata": {},
   "source": [
    "Vajab moodulit `lemmatizer` (=fail `lemmatize.py`)\n",
    "Viimane omakorda vajab installeeritud `estnltk` moodulit (ver. >= 1.6)"
   ]
  },
  {
   "cell_type": "code",
   "execution_count": 1,
   "id": "57015c62-5102-4417-b6e7-3836684d0a59",
   "metadata": {},
   "outputs": [],
   "source": [
    "from lemmatizer import lemmatize"
   ]
  },
  {
   "cell_type": "code",
   "execution_count": 2,
   "id": "e0fc887c-8e68-4fb3-b9ca-025d871d3124",
   "metadata": {},
   "outputs": [],
   "source": [
    "sisend = 'Austatud proua Under!'"
   ]
  },
  {
   "cell_type": "code",
   "execution_count": 3,
   "id": "b5e1fb64-8843-4fc8-9015-af3e6e0a6ce2",
   "metadata": {},
   "outputs": [],
   "source": [
    "out = lemmatize(sisend)"
   ]
  },
  {
   "cell_type": "code",
   "execution_count": 4,
   "id": "eb11447f-1679-4d4d-a7a0-f0f212d7e5b8",
   "metadata": {},
   "outputs": [
    {
     "name": "stdout",
     "output_type": "stream",
     "text": [
      "['austatud|austama', 'proua', 'Under', '!']\n"
     ]
    }
   ],
   "source": [
    "print(out)"
   ]
  },
  {
   "cell_type": "code",
   "execution_count": 5,
   "id": "fc46c2a1-8b6b-4521-8d2c-abf961b94b06",
   "metadata": {},
   "outputs": [],
   "source": [
    "# Listist saab string kasutades join meetodit"
   ]
  },
  {
   "cell_type": "code",
   "execution_count": 6,
   "id": "f3760da8-41b0-405f-9d3c-8fcd60b351f1",
   "metadata": {},
   "outputs": [],
   "source": [
    "outstring = ' '.join(out)"
   ]
  },
  {
   "cell_type": "code",
   "execution_count": 7,
   "id": "7c7c226f-9431-40be-9113-5dc4c197f5bf",
   "metadata": {},
   "outputs": [
    {
     "name": "stdout",
     "output_type": "stream",
     "text": [
      "austatud|austama proua Under !\n"
     ]
    }
   ],
   "source": [
    "print(outstring)"
   ]
  }
 ],
 "metadata": {
  "kernelspec": {
   "display_name": "Python 3 (ipykernel)",
   "language": "python",
   "name": "python3"
  },
  "language_info": {
   "codemirror_mode": {
    "name": "ipython",
    "version": 3
   },
   "file_extension": ".py",
   "mimetype": "text/x-python",
   "name": "python",
   "nbconvert_exporter": "python",
   "pygments_lexer": "ipython3",
   "version": "3.9.18"
  }
 },
 "nbformat": 4,
 "nbformat_minor": 5
}
